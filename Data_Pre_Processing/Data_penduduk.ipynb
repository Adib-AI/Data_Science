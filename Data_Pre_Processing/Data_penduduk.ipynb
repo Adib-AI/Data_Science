{
 "cells": [
  {
   "cell_type": "code",
   "execution_count": 1,
   "metadata": {},
   "outputs": [],
   "source": [
    "import numpy as np\n",
    "import pandas as pd\n",
    "from sklearn.impute import SimpleImputer #Salah satu penanganan missing values\n",
    "from sklearn.preprocessing import OneHotEncoder\n",
    "from sklearn.compose import ColumnTransformer\n",
    "from sklearn.preprocessing import LabelEncoder\n",
    "from sklearn.model_selection import train_test_split\n",
    "from sklearn.preprocessing import StandardScaler #Scaling Data"
   ]
  },
  {
   "cell_type": "code",
   "execution_count": 2,
   "metadata": {},
   "outputs": [
    {
     "data": {
      "text/html": [
       "<div>\n",
       "<style scoped>\n",
       "    .dataframe tbody tr th:only-of-type {\n",
       "        vertical-align: middle;\n",
       "    }\n",
       "\n",
       "    .dataframe tbody tr th {\n",
       "        vertical-align: top;\n",
       "    }\n",
       "\n",
       "    .dataframe thead th {\n",
       "        text-align: right;\n",
       "    }\n",
       "</style>\n",
       "<table border=\"1\" class=\"dataframe\">\n",
       "  <thead>\n",
       "    <tr style=\"text-align: right;\">\n",
       "      <th></th>\n",
       "      <th>Province</th>\n",
       "      <th>Age</th>\n",
       "      <th>Wage</th>\n",
       "      <th>Life Insured</th>\n",
       "    </tr>\n",
       "  </thead>\n",
       "  <tbody>\n",
       "    <tr>\n",
       "      <th>0</th>\n",
       "      <td>Banten</td>\n",
       "      <td>24.0</td>\n",
       "      <td>5000000.0</td>\n",
       "      <td>Yes</td>\n",
       "    </tr>\n",
       "    <tr>\n",
       "      <th>1</th>\n",
       "      <td>DKI Jakarta</td>\n",
       "      <td>NaN</td>\n",
       "      <td>3400000.0</td>\n",
       "      <td>No</td>\n",
       "    </tr>\n",
       "    <tr>\n",
       "      <th>2</th>\n",
       "      <td>Jawa Barat</td>\n",
       "      <td>60.0</td>\n",
       "      <td>7350000.0</td>\n",
       "      <td>No</td>\n",
       "    </tr>\n",
       "    <tr>\n",
       "      <th>3</th>\n",
       "      <td>Banten</td>\n",
       "      <td>34.0</td>\n",
       "      <td>3500000.0</td>\n",
       "      <td>No</td>\n",
       "    </tr>\n",
       "    <tr>\n",
       "      <th>4</th>\n",
       "      <td>Jawa Barat</td>\n",
       "      <td>58.0</td>\n",
       "      <td>NaN</td>\n",
       "      <td>Yes</td>\n",
       "    </tr>\n",
       "    <tr>\n",
       "      <th>5</th>\n",
       "      <td>DKI Jakarta</td>\n",
       "      <td>NaN</td>\n",
       "      <td>8000000.0</td>\n",
       "      <td>No</td>\n",
       "    </tr>\n",
       "    <tr>\n",
       "      <th>6</th>\n",
       "      <td>Banten</td>\n",
       "      <td>21.0</td>\n",
       "      <td>5500000.0</td>\n",
       "      <td>No</td>\n",
       "    </tr>\n",
       "    <tr>\n",
       "      <th>7</th>\n",
       "      <td>Banten</td>\n",
       "      <td>44.0</td>\n",
       "      <td>10000000.0</td>\n",
       "      <td>Yes</td>\n",
       "    </tr>\n",
       "    <tr>\n",
       "      <th>8</th>\n",
       "      <td>Jawa Barat</td>\n",
       "      <td>40.0</td>\n",
       "      <td>9000000.0</td>\n",
       "      <td>Yes</td>\n",
       "    </tr>\n",
       "    <tr>\n",
       "      <th>9</th>\n",
       "      <td>DKI Jakarta</td>\n",
       "      <td>51.0</td>\n",
       "      <td>10500000.0</td>\n",
       "      <td>Yes</td>\n",
       "    </tr>\n",
       "    <tr>\n",
       "      <th>10</th>\n",
       "      <td>Banten</td>\n",
       "      <td>32.0</td>\n",
       "      <td>NaN</td>\n",
       "      <td>No</td>\n",
       "    </tr>\n",
       "    <tr>\n",
       "      <th>11</th>\n",
       "      <td>Banten</td>\n",
       "      <td>30.0</td>\n",
       "      <td>6400000.0</td>\n",
       "      <td>No</td>\n",
       "    </tr>\n",
       "    <tr>\n",
       "      <th>12</th>\n",
       "      <td>Jawa Barat</td>\n",
       "      <td>30.0</td>\n",
       "      <td>NaN</td>\n",
       "      <td>No</td>\n",
       "    </tr>\n",
       "    <tr>\n",
       "      <th>13</th>\n",
       "      <td>DKI Jakarta</td>\n",
       "      <td>19.0</td>\n",
       "      <td>2200000.0</td>\n",
       "      <td>Yes</td>\n",
       "    </tr>\n",
       "    <tr>\n",
       "      <th>14</th>\n",
       "      <td>DKI Jakarta</td>\n",
       "      <td>25.0</td>\n",
       "      <td>4500000.0</td>\n",
       "      <td>Yes</td>\n",
       "    </tr>\n",
       "  </tbody>\n",
       "</table>\n",
       "</div>"
      ],
      "text/plain": [
       "       Province   Age        Wage Life Insured\n",
       "0        Banten  24.0   5000000.0          Yes\n",
       "1   DKI Jakarta   NaN   3400000.0           No\n",
       "2    Jawa Barat  60.0   7350000.0           No\n",
       "3        Banten  34.0   3500000.0           No\n",
       "4    Jawa Barat  58.0         NaN          Yes\n",
       "5   DKI Jakarta   NaN   8000000.0           No\n",
       "6        Banten  21.0   5500000.0           No\n",
       "7        Banten  44.0  10000000.0          Yes\n",
       "8    Jawa Barat  40.0   9000000.0          Yes\n",
       "9   DKI Jakarta  51.0  10500000.0          Yes\n",
       "10       Banten  32.0         NaN           No\n",
       "11       Banten  30.0   6400000.0           No\n",
       "12   Jawa Barat  30.0         NaN           No\n",
       "13  DKI Jakarta  19.0   2200000.0          Yes\n",
       "14  DKI Jakarta  25.0   4500000.0          Yes"
      ]
     },
     "execution_count": 2,
     "metadata": {},
     "output_type": "execute_result"
    }
   ],
   "source": [
    "df = pd.read_csv('data_penduduk.csv', sep = ';')\n",
    "df"
   ]
  },
  {
   "cell_type": "code",
   "execution_count": 3,
   "metadata": {},
   "outputs": [
    {
     "name": "stdout",
     "output_type": "stream",
     "text": [
      "<class 'pandas.core.frame.DataFrame'>\n",
      "RangeIndex: 15 entries, 0 to 14\n",
      "Data columns (total 4 columns):\n",
      " #   Column        Non-Null Count  Dtype  \n",
      "---  ------        --------------  -----  \n",
      " 0   Province      15 non-null     object \n",
      " 1   Age           13 non-null     float64\n",
      " 2   Wage          12 non-null     float64\n",
      " 3   Life Insured  15 non-null     object \n",
      "dtypes: float64(2), object(2)\n",
      "memory usage: 608.0+ bytes\n"
     ]
    }
   ],
   "source": [
    "df.info()"
   ]
  },
  {
   "cell_type": "markdown",
   "metadata": {},
   "source": [
    "# Get Independen (X) and dependen (y) columns"
   ]
  },
  {
   "cell_type": "code",
   "execution_count": 4,
   "metadata": {},
   "outputs": [],
   "source": [
    "X = df.iloc[:, :-1]\n",
    "y = df.iloc[:, -1]"
   ]
  },
  {
   "cell_type": "markdown",
   "metadata": {},
   "source": [
    "Contoh Slices\n",
    "\n",
    "[:, :-1]: pilih semua baris dalam dataset, serta semua kolom kecuali kolom terakhir (ingat negative indexing pada Python).\n",
    "\n",
    "[:, 0:3]: idem, tanpa negative indexing (ada empat kolom pada dataset, kita memilih tiga kolom: indeks 0, 1, dan 2).\n",
    "\n",
    "[:, -1]: pilih semua baris, kolom terakhir."
   ]
  },
  {
   "cell_type": "code",
   "execution_count": 5,
   "metadata": {},
   "outputs": [
    {
     "data": {
      "text/html": [
       "<div>\n",
       "<style scoped>\n",
       "    .dataframe tbody tr th:only-of-type {\n",
       "        vertical-align: middle;\n",
       "    }\n",
       "\n",
       "    .dataframe tbody tr th {\n",
       "        vertical-align: top;\n",
       "    }\n",
       "\n",
       "    .dataframe thead th {\n",
       "        text-align: right;\n",
       "    }\n",
       "</style>\n",
       "<table border=\"1\" class=\"dataframe\">\n",
       "  <thead>\n",
       "    <tr style=\"text-align: right;\">\n",
       "      <th></th>\n",
       "      <th>Province</th>\n",
       "      <th>Age</th>\n",
       "      <th>Wage</th>\n",
       "    </tr>\n",
       "  </thead>\n",
       "  <tbody>\n",
       "    <tr>\n",
       "      <th>0</th>\n",
       "      <td>Banten</td>\n",
       "      <td>24.0</td>\n",
       "      <td>5000000.0</td>\n",
       "    </tr>\n",
       "    <tr>\n",
       "      <th>1</th>\n",
       "      <td>DKI Jakarta</td>\n",
       "      <td>NaN</td>\n",
       "      <td>3400000.0</td>\n",
       "    </tr>\n",
       "    <tr>\n",
       "      <th>2</th>\n",
       "      <td>Jawa Barat</td>\n",
       "      <td>60.0</td>\n",
       "      <td>7350000.0</td>\n",
       "    </tr>\n",
       "    <tr>\n",
       "      <th>3</th>\n",
       "      <td>Banten</td>\n",
       "      <td>34.0</td>\n",
       "      <td>3500000.0</td>\n",
       "    </tr>\n",
       "    <tr>\n",
       "      <th>4</th>\n",
       "      <td>Jawa Barat</td>\n",
       "      <td>58.0</td>\n",
       "      <td>NaN</td>\n",
       "    </tr>\n",
       "    <tr>\n",
       "      <th>5</th>\n",
       "      <td>DKI Jakarta</td>\n",
       "      <td>NaN</td>\n",
       "      <td>8000000.0</td>\n",
       "    </tr>\n",
       "    <tr>\n",
       "      <th>6</th>\n",
       "      <td>Banten</td>\n",
       "      <td>21.0</td>\n",
       "      <td>5500000.0</td>\n",
       "    </tr>\n",
       "    <tr>\n",
       "      <th>7</th>\n",
       "      <td>Banten</td>\n",
       "      <td>44.0</td>\n",
       "      <td>10000000.0</td>\n",
       "    </tr>\n",
       "    <tr>\n",
       "      <th>8</th>\n",
       "      <td>Jawa Barat</td>\n",
       "      <td>40.0</td>\n",
       "      <td>9000000.0</td>\n",
       "    </tr>\n",
       "    <tr>\n",
       "      <th>9</th>\n",
       "      <td>DKI Jakarta</td>\n",
       "      <td>51.0</td>\n",
       "      <td>10500000.0</td>\n",
       "    </tr>\n",
       "    <tr>\n",
       "      <th>10</th>\n",
       "      <td>Banten</td>\n",
       "      <td>32.0</td>\n",
       "      <td>NaN</td>\n",
       "    </tr>\n",
       "    <tr>\n",
       "      <th>11</th>\n",
       "      <td>Banten</td>\n",
       "      <td>30.0</td>\n",
       "      <td>6400000.0</td>\n",
       "    </tr>\n",
       "    <tr>\n",
       "      <th>12</th>\n",
       "      <td>Jawa Barat</td>\n",
       "      <td>30.0</td>\n",
       "      <td>NaN</td>\n",
       "    </tr>\n",
       "    <tr>\n",
       "      <th>13</th>\n",
       "      <td>DKI Jakarta</td>\n",
       "      <td>19.0</td>\n",
       "      <td>2200000.0</td>\n",
       "    </tr>\n",
       "    <tr>\n",
       "      <th>14</th>\n",
       "      <td>DKI Jakarta</td>\n",
       "      <td>25.0</td>\n",
       "      <td>4500000.0</td>\n",
       "    </tr>\n",
       "  </tbody>\n",
       "</table>\n",
       "</div>"
      ],
      "text/plain": [
       "       Province   Age        Wage\n",
       "0        Banten  24.0   5000000.0\n",
       "1   DKI Jakarta   NaN   3400000.0\n",
       "2    Jawa Barat  60.0   7350000.0\n",
       "3        Banten  34.0   3500000.0\n",
       "4    Jawa Barat  58.0         NaN\n",
       "5   DKI Jakarta   NaN   8000000.0\n",
       "6        Banten  21.0   5500000.0\n",
       "7        Banten  44.0  10000000.0\n",
       "8    Jawa Barat  40.0   9000000.0\n",
       "9   DKI Jakarta  51.0  10500000.0\n",
       "10       Banten  32.0         NaN\n",
       "11       Banten  30.0   6400000.0\n",
       "12   Jawa Barat  30.0         NaN\n",
       "13  DKI Jakarta  19.0   2200000.0\n",
       "14  DKI Jakarta  25.0   4500000.0"
      ]
     },
     "execution_count": 5,
     "metadata": {},
     "output_type": "execute_result"
    }
   ],
   "source": [
    "X"
   ]
  },
  {
   "cell_type": "markdown",
   "metadata": {},
   "source": [
    "# Fix Misisng Value"
   ]
  },
  {
   "cell_type": "code",
   "execution_count": 6,
   "metadata": {},
   "outputs": [],
   "source": [
    "missing_fix = SimpleImputer(\n",
    "              missing_values = np.nan,\n",
    "              strategy = 'mean')\n",
    "\n",
    "missing_fix = missing_fix.fit(X.iloc[:, 1:3])\n",
    "X.iloc[:, 1:3] = missing_fix.transform(X.iloc[:, 1:3])"
   ]
  },
  {
   "cell_type": "code",
   "execution_count": 7,
   "metadata": {
    "scrolled": false
   },
   "outputs": [
    {
     "data": {
      "text/html": [
       "<div>\n",
       "<style scoped>\n",
       "    .dataframe tbody tr th:only-of-type {\n",
       "        vertical-align: middle;\n",
       "    }\n",
       "\n",
       "    .dataframe tbody tr th {\n",
       "        vertical-align: top;\n",
       "    }\n",
       "\n",
       "    .dataframe thead th {\n",
       "        text-align: right;\n",
       "    }\n",
       "</style>\n",
       "<table border=\"1\" class=\"dataframe\">\n",
       "  <thead>\n",
       "    <tr style=\"text-align: right;\">\n",
       "      <th></th>\n",
       "      <th>Province</th>\n",
       "      <th>Age</th>\n",
       "      <th>Wage</th>\n",
       "    </tr>\n",
       "  </thead>\n",
       "  <tbody>\n",
       "    <tr>\n",
       "      <th>0</th>\n",
       "      <td>Banten</td>\n",
       "      <td>24.0</td>\n",
       "      <td>5.000000e+06</td>\n",
       "    </tr>\n",
       "    <tr>\n",
       "      <th>1</th>\n",
       "      <td>DKI Jakarta</td>\n",
       "      <td>36.0</td>\n",
       "      <td>3.400000e+06</td>\n",
       "    </tr>\n",
       "    <tr>\n",
       "      <th>2</th>\n",
       "      <td>Jawa Barat</td>\n",
       "      <td>60.0</td>\n",
       "      <td>7.350000e+06</td>\n",
       "    </tr>\n",
       "    <tr>\n",
       "      <th>3</th>\n",
       "      <td>Banten</td>\n",
       "      <td>34.0</td>\n",
       "      <td>3.500000e+06</td>\n",
       "    </tr>\n",
       "    <tr>\n",
       "      <th>4</th>\n",
       "      <td>Jawa Barat</td>\n",
       "      <td>58.0</td>\n",
       "      <td>6.279167e+06</td>\n",
       "    </tr>\n",
       "    <tr>\n",
       "      <th>5</th>\n",
       "      <td>DKI Jakarta</td>\n",
       "      <td>36.0</td>\n",
       "      <td>8.000000e+06</td>\n",
       "    </tr>\n",
       "    <tr>\n",
       "      <th>6</th>\n",
       "      <td>Banten</td>\n",
       "      <td>21.0</td>\n",
       "      <td>5.500000e+06</td>\n",
       "    </tr>\n",
       "    <tr>\n",
       "      <th>7</th>\n",
       "      <td>Banten</td>\n",
       "      <td>44.0</td>\n",
       "      <td>1.000000e+07</td>\n",
       "    </tr>\n",
       "    <tr>\n",
       "      <th>8</th>\n",
       "      <td>Jawa Barat</td>\n",
       "      <td>40.0</td>\n",
       "      <td>9.000000e+06</td>\n",
       "    </tr>\n",
       "    <tr>\n",
       "      <th>9</th>\n",
       "      <td>DKI Jakarta</td>\n",
       "      <td>51.0</td>\n",
       "      <td>1.050000e+07</td>\n",
       "    </tr>\n",
       "    <tr>\n",
       "      <th>10</th>\n",
       "      <td>Banten</td>\n",
       "      <td>32.0</td>\n",
       "      <td>6.279167e+06</td>\n",
       "    </tr>\n",
       "    <tr>\n",
       "      <th>11</th>\n",
       "      <td>Banten</td>\n",
       "      <td>30.0</td>\n",
       "      <td>6.400000e+06</td>\n",
       "    </tr>\n",
       "    <tr>\n",
       "      <th>12</th>\n",
       "      <td>Jawa Barat</td>\n",
       "      <td>30.0</td>\n",
       "      <td>6.279167e+06</td>\n",
       "    </tr>\n",
       "    <tr>\n",
       "      <th>13</th>\n",
       "      <td>DKI Jakarta</td>\n",
       "      <td>19.0</td>\n",
       "      <td>2.200000e+06</td>\n",
       "    </tr>\n",
       "    <tr>\n",
       "      <th>14</th>\n",
       "      <td>DKI Jakarta</td>\n",
       "      <td>25.0</td>\n",
       "      <td>4.500000e+06</td>\n",
       "    </tr>\n",
       "  </tbody>\n",
       "</table>\n",
       "</div>"
      ],
      "text/plain": [
       "       Province   Age          Wage\n",
       "0        Banten  24.0  5.000000e+06\n",
       "1   DKI Jakarta  36.0  3.400000e+06\n",
       "2    Jawa Barat  60.0  7.350000e+06\n",
       "3        Banten  34.0  3.500000e+06\n",
       "4    Jawa Barat  58.0  6.279167e+06\n",
       "5   DKI Jakarta  36.0  8.000000e+06\n",
       "6        Banten  21.0  5.500000e+06\n",
       "7        Banten  44.0  1.000000e+07\n",
       "8    Jawa Barat  40.0  9.000000e+06\n",
       "9   DKI Jakarta  51.0  1.050000e+07\n",
       "10       Banten  32.0  6.279167e+06\n",
       "11       Banten  30.0  6.400000e+06\n",
       "12   Jawa Barat  30.0  6.279167e+06\n",
       "13  DKI Jakarta  19.0  2.200000e+06\n",
       "14  DKI Jakarta  25.0  4.500000e+06"
      ]
     },
     "execution_count": 7,
     "metadata": {},
     "output_type": "execute_result"
    }
   ],
   "source": [
    "X"
   ]
  },
  {
   "cell_type": "markdown",
   "metadata": {},
   "source": [
    "# OneHotEncoder & LabelEncorder"
   ]
  },
  {
   "cell_type": "code",
   "execution_count": 8,
   "metadata": {},
   "outputs": [],
   "source": [
    "encode_province = ColumnTransformer([\n",
    "                                    ('province_name', OneHotEncoder(), [0])],\n",
    "                                    remainder = 'passthrough'\n",
    "                                    )\n",
    "\n",
    "X = encode_province.fit_transform(X).astype(float)"
   ]
  },
  {
   "cell_type": "code",
   "execution_count": 9,
   "metadata": {},
   "outputs": [
    {
     "data": {
      "text/plain": [
       "array([1., 0., 0., 1., 0., 0., 1., 1., 0., 0., 1., 1., 0., 0., 0.])"
      ]
     },
     "execution_count": 9,
     "metadata": {},
     "output_type": "execute_result"
    }
   ],
   "source": [
    "X[:, 0]"
   ]
  },
  {
   "cell_type": "code",
   "execution_count": 10,
   "metadata": {},
   "outputs": [
    {
     "name": "stdout",
     "output_type": "stream",
     "text": [
      "[array(['Banten', 'DKI Jakarta', 'Jawa Barat'], dtype=object)]\n"
     ]
    }
   ],
   "source": [
    "print(encode_province.named_transformers_['province_name'].categories_)"
   ]
  },
  {
   "cell_type": "code",
   "execution_count": 11,
   "metadata": {},
   "outputs": [
    {
     "data": {
      "text/plain": [
       "array([1, 0, 0, 0, 1, 0, 0, 1, 1, 1, 0, 0, 0, 1, 1])"
      ]
     },
     "execution_count": 11,
     "metadata": {},
     "output_type": "execute_result"
    }
   ],
   "source": [
    "label_encoder_target = LabelEncoder()\n",
    "y = label_encoder_target.fit_transform(y)\n",
    "y"
   ]
  },
  {
   "cell_type": "code",
   "execution_count": 12,
   "metadata": {},
   "outputs": [
    {
     "data": {
      "text/plain": [
       "array([1, 0, 0, 0, 1, 0, 0, 1, 1, 1, 0, 0, 0, 1, 1])"
      ]
     },
     "execution_count": 12,
     "metadata": {},
     "output_type": "execute_result"
    }
   ],
   "source": [
    "y"
   ]
  },
  {
   "cell_type": "markdown",
   "metadata": {},
   "source": [
    "# Split Data"
   ]
  },
  {
   "cell_type": "code",
   "execution_count": 13,
   "metadata": {},
   "outputs": [],
   "source": [
    "X_train, X_test, y_train, y_test = train_test_split(X, y, test_size = 0.2, random_state = 1)"
   ]
  },
  {
   "cell_type": "code",
   "execution_count": 14,
   "metadata": {},
   "outputs": [],
   "source": [
    "X_train, X_test, y_train, y_val = train_test_split(X, y, test_size = 0.2, random_state = 1)"
   ]
  },
  {
   "cell_type": "markdown",
   "metadata": {},
   "source": [
    "# Scaling"
   ]
  },
  {
   "cell_type": "code",
   "execution_count": 15,
   "metadata": {},
   "outputs": [],
   "source": [
    "sc = StandardScaler()\n",
    "X_train = sc.fit_transform(X_train)\n",
    "X_test = sc.transform(X_test)"
   ]
  },
  {
   "cell_type": "code",
   "execution_count": 16,
   "metadata": {},
   "outputs": [
    {
     "data": {
      "text/plain": [
       "array([[ 1.73205081, -0.84515425, -0.70710678, -0.21649237, -1.24652737],\n",
       "       [ 1.73205081, -0.84515425, -0.70710678,  0.57075262,  1.68316407],\n",
       "       [ 1.73205081, -0.84515425, -0.70710678, -1.23991087, -0.34508385]])"
      ]
     },
     "execution_count": 16,
     "metadata": {},
     "output_type": "execute_result"
    }
   ],
   "source": [
    "X_test"
   ]
  },
  {
   "cell_type": "code",
   "execution_count": 17,
   "metadata": {},
   "outputs": [
    {
     "data": {
      "text/plain": [
       "array([[-0.57735027, -0.84515425,  1.41421356,  1.83034461,  0.48875141],\n",
       "       [ 1.73205081, -0.84515425, -0.70710678, -0.37394137,  0.00610352],\n",
       "       [-0.57735027, -0.84515425,  1.41421356,  1.67289561,  0.00610352],\n",
       "       [-0.57735027,  1.18321596, -0.70710678, -0.05904337, -1.29159954],\n",
       "       [-0.57735027,  1.18321596, -0.70710678, -1.39735986, -1.83246566],\n",
       "       [ 1.73205081, -0.84515425, -0.70710678, -1.00373737, -0.57044473],\n",
       "       [-0.57735027,  1.18321596, -0.70710678, -0.92501287, -0.79580561],\n",
       "       [-0.57735027,  1.18321596, -0.70710678,  1.12182412,  1.90852495],\n",
       "       [-0.57735027, -0.84515425,  1.41421356,  0.25585462,  1.23244231],\n",
       "       [-0.57735027, -0.84515425,  1.41421356, -0.53139037,  0.00610352],\n",
       "       [ 1.73205081, -0.84515425, -0.70710678, -0.53139037,  0.06056574],\n",
       "       [-0.57735027,  1.18321596, -0.70710678, -0.05904337,  0.78172055]])"
      ]
     },
     "execution_count": 17,
     "metadata": {},
     "output_type": "execute_result"
    }
   ],
   "source": [
    "X_train"
   ]
  },
  {
   "cell_type": "code",
   "execution_count": null,
   "metadata": {},
   "outputs": [],
   "source": []
  }
 ],
 "metadata": {
  "kernelspec": {
   "display_name": "Python 3",
   "language": "python",
   "name": "python3"
  },
  "language_info": {
   "codemirror_mode": {
    "name": "ipython",
    "version": 3
   },
   "file_extension": ".py",
   "mimetype": "text/x-python",
   "name": "python",
   "nbconvert_exporter": "python",
   "pygments_lexer": "ipython3",
   "version": "3.8.5"
  }
 },
 "nbformat": 4,
 "nbformat_minor": 4
}
